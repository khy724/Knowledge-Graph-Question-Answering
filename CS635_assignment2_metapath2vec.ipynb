{
  "nbformat": 4,
  "nbformat_minor": 0,
  "metadata": {
    "colab": {
      "provenance": [],
      "gpuType": "T4"
    },
    "kernelspec": {
      "name": "python3",
      "display_name": "Python 3"
    },
    "language_info": {
      "name": "python"
    },
    "accelerator": "GPU"
  },
  "cells": [
    {
      "cell_type": "code",
      "execution_count": 69,
      "metadata": {
        "id": "-0zpvVaJYb5y",
        "colab": {
          "base_uri": "https://localhost:8080/"
        },
        "outputId": "1c454d00-87e9-4d60-9732-87f3e1182065"
      },
      "outputs": [
        {
          "output_type": "stream",
          "name": "stdout",
          "text": [
            "Drive already mounted at /content/drive; to attempt to forcibly remount, call drive.mount(\"/content/drive\", force_remount=True).\n"
          ]
        }
      ],
      "source": [
        "from google.colab import drive\n",
        "drive.mount('/content/drive')"
      ]
    },
    {
      "cell_type": "code",
      "source": [
        "cd /content/drive/MyDrive/IMDB"
      ],
      "metadata": {
        "id": "0tFIANy8a-Jx",
        "colab": {
          "base_uri": "https://localhost:8080/"
        },
        "outputId": "8464ff1a-4c7a-4881-831f-5cafb8884723"
      },
      "execution_count": 70,
      "outputs": [
        {
          "output_type": "stream",
          "name": "stdout",
          "text": [
            "/content/drive/MyDrive/IMDB\n"
          ]
        }
      ]
    },
    {
      "cell_type": "code",
      "source": [
        "# !sudo pip3 install dgl-cu101\n",
        "#102, 117, 118 tried doesn't work, 101 doesn't exist\n",
        "# !pip uninstall dgl -y\n",
        "# !pip install dgl -f https://data.dgl.ai/wheels/cu117/repo.html\n",
        "# # !git clone  https://github.com/awslabs/dgl-ke.git\n",
        "# # !pip uninstall dglke -y\n",
        "# # !sudo pip3 install dglke\n",
        "# # !pushd dgl-ke;cd python;sudo python3 setup.py install;\n",
        "# !pip3 uninstall torch -y\n",
        "# # !sudo pip3 install torch==1.5.0+cu101 torchvision==0.6.0+cu101 -f https://download.pytorch.org/whl/torch_stable.html\n",
        "# !pip3 install torch torchvision torchaudio --index-url https://download.pytorch.org/whl/cu117\n"
      ],
      "metadata": {
        "id": "pMghLP8n9_oT"
      },
      "execution_count": 71,
      "outputs": []
    },
    {
      "cell_type": "code",
      "source": [
        "pip install -U sentence-transformers"
      ],
      "metadata": {
        "colab": {
          "base_uri": "https://localhost:8080/"
        },
        "id": "seSh-cIMpIPv",
        "outputId": "43a530fe-73fc-4b8a-acca-1ba43dc31683"
      },
      "execution_count": 72,
      "outputs": [
        {
          "output_type": "stream",
          "name": "stdout",
          "text": [
            "Requirement already satisfied: sentence-transformers in /usr/local/lib/python3.10/dist-packages (2.2.2)\n",
            "Requirement already satisfied: transformers<5.0.0,>=4.6.0 in /usr/local/lib/python3.10/dist-packages (from sentence-transformers) (4.35.2)\n",
            "Requirement already satisfied: tqdm in /usr/local/lib/python3.10/dist-packages (from sentence-transformers) (4.66.1)\n",
            "Requirement already satisfied: torch>=1.6.0 in /usr/local/lib/python3.10/dist-packages (from sentence-transformers) (2.1.0+cu118)\n",
            "Requirement already satisfied: torchvision in /usr/local/lib/python3.10/dist-packages (from sentence-transformers) (0.16.0+cu118)\n",
            "Requirement already satisfied: numpy in /usr/local/lib/python3.10/dist-packages (from sentence-transformers) (1.23.5)\n",
            "Requirement already satisfied: scikit-learn in /usr/local/lib/python3.10/dist-packages (from sentence-transformers) (1.2.2)\n",
            "Requirement already satisfied: scipy in /usr/local/lib/python3.10/dist-packages (from sentence-transformers) (1.11.3)\n",
            "Requirement already satisfied: nltk in /usr/local/lib/python3.10/dist-packages (from sentence-transformers) (3.8.1)\n",
            "Requirement already satisfied: sentencepiece in /usr/local/lib/python3.10/dist-packages (from sentence-transformers) (0.1.99)\n",
            "Requirement already satisfied: huggingface-hub>=0.4.0 in /usr/local/lib/python3.10/dist-packages (from sentence-transformers) (0.19.4)\n",
            "Requirement already satisfied: filelock in /usr/local/lib/python3.10/dist-packages (from huggingface-hub>=0.4.0->sentence-transformers) (3.13.1)\n",
            "Requirement already satisfied: fsspec>=2023.5.0 in /usr/local/lib/python3.10/dist-packages (from huggingface-hub>=0.4.0->sentence-transformers) (2023.6.0)\n",
            "Requirement already satisfied: requests in /usr/local/lib/python3.10/dist-packages (from huggingface-hub>=0.4.0->sentence-transformers) (2.31.0)\n",
            "Requirement already satisfied: pyyaml>=5.1 in /usr/local/lib/python3.10/dist-packages (from huggingface-hub>=0.4.0->sentence-transformers) (6.0.1)\n",
            "Requirement already satisfied: typing-extensions>=3.7.4.3 in /usr/local/lib/python3.10/dist-packages (from huggingface-hub>=0.4.0->sentence-transformers) (4.5.0)\n",
            "Requirement already satisfied: packaging>=20.9 in /usr/local/lib/python3.10/dist-packages (from huggingface-hub>=0.4.0->sentence-transformers) (23.2)\n",
            "Requirement already satisfied: sympy in /usr/local/lib/python3.10/dist-packages (from torch>=1.6.0->sentence-transformers) (1.12)\n",
            "Requirement already satisfied: networkx in /usr/local/lib/python3.10/dist-packages (from torch>=1.6.0->sentence-transformers) (3.2.1)\n",
            "Requirement already satisfied: jinja2 in /usr/local/lib/python3.10/dist-packages (from torch>=1.6.0->sentence-transformers) (3.1.2)\n",
            "Requirement already satisfied: triton==2.1.0 in /usr/local/lib/python3.10/dist-packages (from torch>=1.6.0->sentence-transformers) (2.1.0)\n",
            "Requirement already satisfied: regex!=2019.12.17 in /usr/local/lib/python3.10/dist-packages (from transformers<5.0.0,>=4.6.0->sentence-transformers) (2023.6.3)\n",
            "Requirement already satisfied: tokenizers<0.19,>=0.14 in /usr/local/lib/python3.10/dist-packages (from transformers<5.0.0,>=4.6.0->sentence-transformers) (0.15.0)\n",
            "Requirement already satisfied: safetensors>=0.3.1 in /usr/local/lib/python3.10/dist-packages (from transformers<5.0.0,>=4.6.0->sentence-transformers) (0.4.0)\n",
            "Requirement already satisfied: click in /usr/local/lib/python3.10/dist-packages (from nltk->sentence-transformers) (8.1.7)\n",
            "Requirement already satisfied: joblib in /usr/local/lib/python3.10/dist-packages (from nltk->sentence-transformers) (1.3.2)\n",
            "Requirement already satisfied: threadpoolctl>=2.0.0 in /usr/local/lib/python3.10/dist-packages (from scikit-learn->sentence-transformers) (3.2.0)\n",
            "Requirement already satisfied: pillow!=8.3.*,>=5.3.0 in /usr/local/lib/python3.10/dist-packages (from torchvision->sentence-transformers) (9.4.0)\n",
            "Requirement already satisfied: MarkupSafe>=2.0 in /usr/local/lib/python3.10/dist-packages (from jinja2->torch>=1.6.0->sentence-transformers) (2.1.3)\n",
            "Requirement already satisfied: charset-normalizer<4,>=2 in /usr/local/lib/python3.10/dist-packages (from requests->huggingface-hub>=0.4.0->sentence-transformers) (3.3.2)\n",
            "Requirement already satisfied: idna<4,>=2.5 in /usr/local/lib/python3.10/dist-packages (from requests->huggingface-hub>=0.4.0->sentence-transformers) (3.4)\n",
            "Requirement already satisfied: urllib3<3,>=1.21.1 in /usr/local/lib/python3.10/dist-packages (from requests->huggingface-hub>=0.4.0->sentence-transformers) (2.0.7)\n",
            "Requirement already satisfied: certifi>=2017.4.17 in /usr/local/lib/python3.10/dist-packages (from requests->huggingface-hub>=0.4.0->sentence-transformers) (2023.7.22)\n",
            "Requirement already satisfied: mpmath>=0.19 in /usr/local/lib/python3.10/dist-packages (from sympy->torch>=1.6.0->sentence-transformers) (1.3.0)\n"
          ]
        }
      ]
    },
    {
      "cell_type": "code",
      "source": [
        "import torch\n",
        "\n",
        "!pip uninstall torch-scatter torch-sparse torch-geometric torch-cluster  --y\n",
        "!pip install torch-scatter -f https://data.pyg.org/whl/torch-{torch.__version__}.html\n",
        "!pip install torch-sparse -f https://data.pyg.org/whl/torch-{torch.__version__}.html\n",
        "!pip install torch-cluster -f https://data.pyg.org/whl/torch-{torch.__version__}.html\n",
        "!pip install git+https://github.com/pyg-team/pytorch_geometric.git\n"
      ],
      "metadata": {
        "colab": {
          "base_uri": "https://localhost:8080/"
        },
        "id": "af0V2Jp0Lfi5",
        "outputId": "9dfbd11d-d69a-49e8-d689-b0175b8ee768"
      },
      "execution_count": 73,
      "outputs": [
        {
          "output_type": "stream",
          "name": "stdout",
          "text": [
            "\u001b[33mWARNING: Skipping torch-scatter as it is not installed.\u001b[0m\u001b[33m\n",
            "\u001b[0m\u001b[33mWARNING: Skipping torch-sparse as it is not installed.\u001b[0m\u001b[33m\n",
            "\u001b[0m\u001b[33mWARNING: Skipping torch-geometric as it is not installed.\u001b[0m\u001b[33m\n",
            "\u001b[0m\u001b[33mWARNING: Skipping torch-cluster as it is not installed.\u001b[0m\u001b[33m\n",
            "\u001b[0mLooking in links: https://data.pyg.org/whl/torch-2.1.0+cu118.html\n",
            "Collecting torch-scatter\n",
            "  Downloading https://data.pyg.org/whl/torch-2.1.0%2Bcu118/torch_scatter-2.1.2%2Bpt21cu118-cp310-cp310-linux_x86_64.whl (10.2 MB)\n",
            "\u001b[2K     \u001b[90m━━━━━━━━━━━━━━━━━━━━━━━━━━━━━━━━━━━━━━━━\u001b[0m \u001b[32m10.2/10.2 MB\u001b[0m \u001b[31m39.9 MB/s\u001b[0m eta \u001b[36m0:00:00\u001b[0m\n",
            "\u001b[?25hInstalling collected packages: torch-scatter\n",
            "Successfully installed torch-scatter-2.1.2+pt21cu118\n",
            "Looking in links: https://data.pyg.org/whl/torch-2.1.0+cu118.html\n",
            "Collecting torch-sparse\n",
            "  Downloading https://data.pyg.org/whl/torch-2.1.0%2Bcu118/torch_sparse-0.6.18%2Bpt21cu118-cp310-cp310-linux_x86_64.whl (4.9 MB)\n",
            "\u001b[2K     \u001b[90m━━━━━━━━━━━━━━━━━━━━━━━━━━━━━━━━━━━━━━━━\u001b[0m \u001b[32m4.9/4.9 MB\u001b[0m \u001b[31m21.1 MB/s\u001b[0m eta \u001b[36m0:00:00\u001b[0m\n",
            "\u001b[?25hRequirement already satisfied: scipy in /usr/local/lib/python3.10/dist-packages (from torch-sparse) (1.11.3)\n",
            "Requirement already satisfied: numpy<1.28.0,>=1.21.6 in /usr/local/lib/python3.10/dist-packages (from scipy->torch-sparse) (1.23.5)\n",
            "Installing collected packages: torch-sparse\n",
            "Successfully installed torch-sparse-0.6.18+pt21cu118\n",
            "Looking in links: https://data.pyg.org/whl/torch-2.1.0+cu118.html\n",
            "Collecting torch-cluster\n",
            "  Downloading https://data.pyg.org/whl/torch-2.1.0%2Bcu118/torch_cluster-1.6.3%2Bpt21cu118-cp310-cp310-linux_x86_64.whl (3.3 MB)\n",
            "\u001b[2K     \u001b[90m━━━━━━━━━━━━━━━━━━━━━━━━━━━━━━━━━━━━━━━━\u001b[0m \u001b[32m3.3/3.3 MB\u001b[0m \u001b[31m36.2 MB/s\u001b[0m eta \u001b[36m0:00:00\u001b[0m\n",
            "\u001b[?25hRequirement already satisfied: scipy in /usr/local/lib/python3.10/dist-packages (from torch-cluster) (1.11.3)\n",
            "Requirement already satisfied: numpy<1.28.0,>=1.21.6 in /usr/local/lib/python3.10/dist-packages (from scipy->torch-cluster) (1.23.5)\n",
            "Installing collected packages: torch-cluster\n",
            "Successfully installed torch-cluster-1.6.3+pt21cu118\n",
            "Collecting git+https://github.com/pyg-team/pytorch_geometric.git\n",
            "  Cloning https://github.com/pyg-team/pytorch_geometric.git to /tmp/pip-req-build-rumrypen\n",
            "  Running command git clone --filter=blob:none --quiet https://github.com/pyg-team/pytorch_geometric.git /tmp/pip-req-build-rumrypen\n",
            "  Resolved https://github.com/pyg-team/pytorch_geometric.git to commit e0a2b2aaa621d811cb2115c15766d7235aae0b87\n",
            "  Installing build dependencies ... \u001b[?25l\u001b[?25hdone\n",
            "  Getting requirements to build wheel ... \u001b[?25l\u001b[?25hdone\n",
            "  Preparing metadata (pyproject.toml) ... \u001b[?25l\u001b[?25hdone\n",
            "Requirement already satisfied: tqdm in /usr/local/lib/python3.10/dist-packages (from torch_geometric==2.4.0) (4.66.1)\n",
            "Requirement already satisfied: numpy in /usr/local/lib/python3.10/dist-packages (from torch_geometric==2.4.0) (1.23.5)\n",
            "Requirement already satisfied: scipy in /usr/local/lib/python3.10/dist-packages (from torch_geometric==2.4.0) (1.11.3)\n",
            "Requirement already satisfied: fsspec in /usr/local/lib/python3.10/dist-packages (from torch_geometric==2.4.0) (2023.6.0)\n",
            "Requirement already satisfied: jinja2 in /usr/local/lib/python3.10/dist-packages (from torch_geometric==2.4.0) (3.1.2)\n",
            "Requirement already satisfied: aiohttp in /usr/local/lib/python3.10/dist-packages (from torch_geometric==2.4.0) (3.8.6)\n",
            "Requirement already satisfied: requests in /usr/local/lib/python3.10/dist-packages (from torch_geometric==2.4.0) (2.31.0)\n",
            "Requirement already satisfied: pyparsing in /usr/local/lib/python3.10/dist-packages (from torch_geometric==2.4.0) (3.1.1)\n",
            "Requirement already satisfied: scikit-learn in /usr/local/lib/python3.10/dist-packages (from torch_geometric==2.4.0) (1.2.2)\n",
            "Requirement already satisfied: psutil>=5.8.0 in /usr/local/lib/python3.10/dist-packages (from torch_geometric==2.4.0) (5.9.5)\n",
            "Requirement already satisfied: attrs>=17.3.0 in /usr/local/lib/python3.10/dist-packages (from aiohttp->torch_geometric==2.4.0) (23.1.0)\n",
            "Requirement already satisfied: charset-normalizer<4.0,>=2.0 in /usr/local/lib/python3.10/dist-packages (from aiohttp->torch_geometric==2.4.0) (3.3.2)\n",
            "Requirement already satisfied: multidict<7.0,>=4.5 in /usr/local/lib/python3.10/dist-packages (from aiohttp->torch_geometric==2.4.0) (6.0.4)\n",
            "Requirement already satisfied: async-timeout<5.0,>=4.0.0a3 in /usr/local/lib/python3.10/dist-packages (from aiohttp->torch_geometric==2.4.0) (4.0.3)\n",
            "Requirement already satisfied: yarl<2.0,>=1.0 in /usr/local/lib/python3.10/dist-packages (from aiohttp->torch_geometric==2.4.0) (1.9.2)\n",
            "Requirement already satisfied: frozenlist>=1.1.1 in /usr/local/lib/python3.10/dist-packages (from aiohttp->torch_geometric==2.4.0) (1.4.0)\n",
            "Requirement already satisfied: aiosignal>=1.1.2 in /usr/local/lib/python3.10/dist-packages (from aiohttp->torch_geometric==2.4.0) (1.3.1)\n",
            "Requirement already satisfied: MarkupSafe>=2.0 in /usr/local/lib/python3.10/dist-packages (from jinja2->torch_geometric==2.4.0) (2.1.3)\n",
            "Requirement already satisfied: idna<4,>=2.5 in /usr/local/lib/python3.10/dist-packages (from requests->torch_geometric==2.4.0) (3.4)\n",
            "Requirement already satisfied: urllib3<3,>=1.21.1 in /usr/local/lib/python3.10/dist-packages (from requests->torch_geometric==2.4.0) (2.0.7)\n",
            "Requirement already satisfied: certifi>=2017.4.17 in /usr/local/lib/python3.10/dist-packages (from requests->torch_geometric==2.4.0) (2023.7.22)\n",
            "Requirement already satisfied: joblib>=1.1.1 in /usr/local/lib/python3.10/dist-packages (from scikit-learn->torch_geometric==2.4.0) (1.3.2)\n",
            "Requirement already satisfied: threadpoolctl>=2.0.0 in /usr/local/lib/python3.10/dist-packages (from scikit-learn->torch_geometric==2.4.0) (3.2.0)\n",
            "Building wheels for collected packages: torch_geometric\n",
            "  Building wheel for torch_geometric (pyproject.toml) ... \u001b[?25l\u001b[?25hdone\n",
            "  Created wheel for torch_geometric: filename=torch_geometric-2.4.0-py3-none-any.whl size=1058837 sha256=4254b43e1e6ad2d759a1c8f5ad21a20707d00e38bbeb3b48f9969edba7b456ff\n",
            "  Stored in directory: /tmp/pip-ephem-wheel-cache-61fu3yod/wheels/d3/78/eb/9e26525b948d19533f1688fb6c209cec8a0ba793d39b49ae8f\n",
            "Successfully built torch_geometric\n",
            "Installing collected packages: torch_geometric\n",
            "Successfully installed torch_geometric-2.4.0\n"
          ]
        }
      ]
    },
    {
      "cell_type": "code",
      "source": [
        "import pandas as pd\n",
        "import torch\n",
        "from torch_geometric.data import HeteroData\n",
        "\n",
        "data = pd.read_csv('IMDB-Movie-Data.csv')\n",
        "\n",
        "counter = 0\n",
        "node_id_mapping = {'title':0,'genre':1,'actor':2,'director':3,'year':4}\n",
        "id_node_mapping = {}\n",
        "heteroData = HeteroData()\n",
        "# metapath = [\n",
        "#       (\"title\", \"is_of\", \"genre\"),\n",
        "#       (\"actor\", \"acts_in\", \"title\"),\n",
        "#       (\"director\", \"directs\", \"title\"),\n",
        "#       (\"title\", \"is_when\", \"year\")\n",
        "#   ]\n",
        "metapath = [\n",
        "    (\"title\", \"is_of\", \"genre\"),\n",
        "    (\"genre\", \"type_of\" ,\"title\"),\n",
        "    (\"title\", \"features\", \"actor\"),\n",
        "    (\"actor\", \"acts_in\", \"title\"),\n",
        "    (\"title\", \"is_directed_by\", \"director\"),\n",
        "    (\"director\", \"directs\", \"title\"),\n",
        "    (\"title\", \"is_when\", \"year\"),\n",
        "    (\"year\",\"is_the_timeline\",\"title\")\n",
        "]\n",
        "for met in metapath:\n",
        "  heteroData[met].edge_index = [[], []]\n",
        "  # heteroData[met] = [[], []]\n",
        "for i in data.index:\n",
        "  title = data['Title'][i] + '___' + str(data['Year'][i])\n",
        "  genre = data['Genre'][i].split(',')\n",
        "  actors = data['Actors'][i].split(',')\n",
        "  director = data['Director'][i]\n",
        "  year = str(data['Year'][i])\n",
        "  node_id_mapping[title]= ['title',counter]\n",
        "  id_node_mapping[counter] = ['title',title]\n",
        "  title_id = counter\n",
        "  counter+=1\n",
        "\n",
        "  for g in genre:\n",
        "    if g not in node_id_mapping.keys():\n",
        "      node_id_mapping[g]= ['genre',counter]\n",
        "      id_node_mapping[counter] = ['genre',g]\n",
        "      met = (\"title\", \"is_of\", \"genre\")\n",
        "      heteroData[met].edge_index[0].append(title_id)\n",
        "      heteroData[met].edge_index[1].append(counter)\n",
        "      # heteroData[met].append(title_id)\n",
        "      # heteroData[met].append(counter)\n",
        "      met = (\"genre\", \"type_of\" ,\"title\")\n",
        "      heteroData[met].edge_index[0].append(counter)\n",
        "      heteroData[met].edge_index[1].append(title_id)\n",
        "      # heteroData[met].append(counter)\n",
        "      # heteroData[met].append(title_id)\n",
        "      counter+=1\n",
        "    else:\n",
        "      met = (\"title\", \"is_of\", \"genre\")\n",
        "      heteroData[met].edge_index[0].append(title_id)\n",
        "      heteroData[met].edge_index[1].append(node_id_mapping[g][1])\n",
        "      # heteroData[met].append(title_id)\n",
        "      # heteroData[met].append(node_id_mapping[g])\n",
        "      met = (\"genre\", \"type_of\" ,\"title\")\n",
        "      heteroData[met].edge_index[0].append(node_id_mapping[g][1])\n",
        "      heteroData[met].edge_index[1].append(title_id)\n",
        "      # heteroData[met].append(node_id_mapping[g])\n",
        "      # heteroData[met].append(title_id)\n",
        "\n",
        "  for a in actors:\n",
        "    if a not in node_id_mapping.keys():\n",
        "      node_id_mapping[a]= ['actor',counter]\n",
        "      id_node_mapping[counter] = ['actor',a]\n",
        "      met = (\"actor\", \"acts_in\", \"title\")\n",
        "      heteroData[met].edge_index[0].append(counter)\n",
        "      heteroData[met].edge_index[1].append( title_id)\n",
        "      # heteroData[met].append(counter)\n",
        "      # heteroData[met].append( title_id)\n",
        "      met = (\"title\", \"features\", \"actor\")\n",
        "      heteroData[met].edge_index[0].append(title_id)\n",
        "      heteroData[met].edge_index[1].append(counter)\n",
        "      # heteroData[met].append(title_id)\n",
        "      # heteroData[met].append(counter)\n",
        "      counter+=1\n",
        "    else:\n",
        "      met = (\"actor\", \"acts_in\", \"title\")\n",
        "      heteroData[met].edge_index[0].append(node_id_mapping[a][1])\n",
        "      heteroData[met].edge_index[1].append( title_id)\n",
        "      # heteroData[met].append(node_id_mapping[a])\n",
        "      # heteroData[met].append( title_id)\n",
        "      met = (\"title\", \"features\", \"actor\")\n",
        "      heteroData[met].edge_index[0].append(title_id)\n",
        "      heteroData[met].edge_index[1].append(node_id_mapping[a][1])\n",
        "      # heteroData[met].append(title_id)\n",
        "      # heteroData[met].append(node_id_mapping[a])\n",
        "\n",
        "  if director not in node_id_mapping.keys():\n",
        "    node_id_mapping[director]= ['director',counter]\n",
        "    id_node_mapping[counter] = ['director',director]\n",
        "    met = (\"director\", \"directs\", \"title\")\n",
        "    heteroData[met].edge_index[0].append(counter)\n",
        "    heteroData[met].edge_index[1].append(title_id)\n",
        "    # heteroData[met].append(counter)\n",
        "    # heteroData[met].append(title_id)\n",
        "    met = (\"title\", \"is_directed_by\", \"director\")\n",
        "    heteroData[met].edge_index[0].append(title_id)\n",
        "    heteroData[met].edge_index[1].append(counter)\n",
        "    # heteroData[met].append(title_id)\n",
        "    # heteroData[met].append(counter)\n",
        "    counter+=1\n",
        "  else:\n",
        "    met = (\"director\", \"directs\", \"title\")\n",
        "    heteroData[met].edge_index[0].append(node_id_mapping[director][1])\n",
        "    heteroData[met].edge_index[1].append(title_id)\n",
        "    # heteroData[met].append(node_id_mapping[director])\n",
        "    # heteroData[met].append(title_id)\n",
        "    met = (\"title\", \"is_directed_by\", \"director\")\n",
        "    heteroData[met].edge_index[0].append(title_id)\n",
        "    heteroData[met].edge_index[1].append(node_id_mapping[director][1])\n",
        "    # heteroData[met].append(title_id)\n",
        "    # heteroData[met].append(node_id_mapping[director])\n",
        "\n",
        "  if year not in node_id_mapping.keys():\n",
        "    node_id_mapping[year]= ['year',counter]\n",
        "    id_node_mapping[counter] = ['year',year]\n",
        "    met = (\"title\", \"is_when\", \"year\")\n",
        "    heteroData[met].edge_index[0].append(title_id)\n",
        "    heteroData[met].edge_index[1].append(counter)\n",
        "    # heteroData[met].append(title_id)\n",
        "    # heteroData[met].append(counter)\n",
        "    met = (\"year\",\"is_the_timeline\",\"title\")\n",
        "    heteroData[met].edge_index[0].append(counter)\n",
        "    heteroData[met].edge_index[1].append(title_id)\n",
        "    # heteroData[met].append(counter)\n",
        "    # heteroData[met].append(title_id)\n",
        "    counter+=1\n",
        "  else:\n",
        "    met = (\"title\", \"is_when\", \"year\")\n",
        "    heteroData[met].edge_index[0].append(title_id)\n",
        "    heteroData[met].edge_index[1].append(node_id_mapping[year][1])\n",
        "    # heteroData[met].append(title_id)\n",
        "    # heteroData[met].append(node_id_mapping[year])\n",
        "    met = (\"year\",\"is_the_timeline\",\"title\")\n",
        "    heteroData[met].edge_index[0].append(node_id_mapping[year][1])\n",
        "    heteroData[met].edge_index[1].append(title_id)\n",
        "    # heteroData[met].append(node_id_mapping[year])\n",
        "    # heteroData[met].append(title_id)\n",
        "\n"
      ],
      "metadata": {
        "id": "Sza6fBvdY-VS"
      },
      "execution_count": 74,
      "outputs": []
    },
    {
      "cell_type": "code",
      "source": [
        "import torch_geometric.transforms as T\n",
        "\n",
        "for met in metapath:\n",
        "  # heteroData[met] = torch.tensor(heteroData[met], dtype = torch.long)\n",
        "  heteroData[met].edge_index = torch.tensor(heteroData[met].edge_index, dtype = torch.long)\n",
        "\n",
        "heteroData.edge_index_dict\n",
        "# print(heteroData.edge_index_dict)\n",
        "# transform = T.RandomLinkSplit(is_undirected=True,num_val = 0.1,\n",
        "#               num_test = 0.1,\n",
        "#               edge_types = [(\"title\", \"is_when\", \"year\")],\n",
        "#               rev_edge_types = [(\"year\",\"is_the_timeline\",\"title\")])\n",
        "# # # print(heteroData.metadata())\n",
        "# # edge_store = heteroData.get_edge_store(\"title\", \"is_when\", \"year\")\n",
        "# # edge_index = edge_store['edge_index']\n",
        "# # row, col = edge_index\n",
        "# # print(row*2)\n",
        "# edge_types = [(\"title\", \"is_when\", \"year\")]\n",
        "# stores = [heteroData[edge_type] for edge_type in edge_types]\n",
        "# print(stores[0])\n",
        "# for item in stores:\n",
        "#   store = item\n",
        "#   print(store.size())\n",
        "# train_data, val_data, test_data = transform(heteroData)\n",
        "\n"
      ],
      "metadata": {
        "colab": {
          "base_uri": "https://localhost:8080/"
        },
        "id": "f82sx0EsKp2f",
        "outputId": "2487c638-8a14-4719-885a-39db832060bf"
      },
      "execution_count": 75,
      "outputs": [
        {
          "output_type": "execute_result",
          "data": {
            "text/plain": [
              "{('title',\n",
              "  'is_of',\n",
              "  'genre'): tensor([[   0,    0,    0,  ..., 4044, 4044, 4044],\n",
              "         [   1,    2,    3,  ...,   29,   30,   37]]),\n",
              " ('genre',\n",
              "  'type_of',\n",
              "  'title'): tensor([[   1,    2,    3,  ...,   29,   30,   37],\n",
              "         [   0,    0,    0,  ..., 4044, 4044, 4044]]),\n",
              " ('title',\n",
              "  'features',\n",
              "  'actor'): tensor([[   0,    0,    0,  ..., 4044, 4044, 4044],\n",
              "         [   4,    5,    6,  ...,  413, 2894, 4046]]),\n",
              " ('actor',\n",
              "  'acts_in',\n",
              "  'title'): tensor([[   4,    5,    6,  ...,  413, 2894, 4046],\n",
              "         [   0,    0,    0,  ..., 4044, 4044, 4044]]),\n",
              " ('title',\n",
              "  'is_directed_by',\n",
              "  'director'): tensor([[   0,   10,   18,  ..., 4034, 4039, 4044],\n",
              "         [   8,   16,   25,  ...,  880, 4043, 2225]]),\n",
              " ('director',\n",
              "  'directs',\n",
              "  'title'): tensor([[   8,   16,   25,  ...,  880, 4043, 2225],\n",
              "         [   0,   10,   18,  ..., 4034, 4039, 4044]]),\n",
              " ('title',\n",
              "  'is_when',\n",
              "  'year'): tensor([[   0,   10,   18,  ..., 4034, 4039, 4044],\n",
              "         [   9,   17,   26,  ...,  341,    9,   26]]),\n",
              " ('year',\n",
              "  'is_the_timeline',\n",
              "  'title'): tensor([[   9,   17,   26,  ...,  341,    9,   26],\n",
              "         [   0,   10,   18,  ..., 4034, 4039, 4044]])}"
            ]
          },
          "metadata": {},
          "execution_count": 75
        }
      ]
    },
    {
      "cell_type": "markdown",
      "source": [],
      "metadata": {
        "id": "eQ6YdQ-HrsOg"
      }
    },
    {
      "cell_type": "code",
      "source": [
        "from torch_geometric.nn import MetaPath2Vec\n",
        "device = 'cuda' if torch.cuda.is_available() else 'cpu'\n",
        "# for keys, edge_index in heteroData.edge_index_dict.items():\n",
        "#     key = keys[0]\n",
        "#     try:\n",
        "#       N = int(edge_index[0].max() + 1)\n",
        "#       print(N)\n",
        "#     except:\n",
        "#       print(edge_index[0])\n",
        "model = MetaPath2Vec(\n",
        "    heteroData.edge_index_dict,\n",
        "    embedding_dim=384,\n",
        "    metapath=metapath, walk_length=50, context_size=7,\n",
        "    walks_per_node=5, num_negative_samples=5,\n",
        "    sparse=True).to(device)\n",
        "\n",
        "\n",
        "# optimizer = torch.optim.Adam(model.parameters(), lr=0.01)\n",
        "optimizer = torch.optim.SparseAdam(model.parameters(), lr=0.01)"
      ],
      "metadata": {
        "id": "aGw_L42UOfn2"
      },
      "execution_count": 76,
      "outputs": []
    },
    {
      "cell_type": "code",
      "source": [
        "loader = model.loader(batch_size=128, shuffle=True, num_workers=4)\n"
      ],
      "metadata": {
        "id": "_Hsse4m6X5s8",
        "colab": {
          "base_uri": "https://localhost:8080/"
        },
        "outputId": "284129e6-241d-48e0-8d08-ac142a896b48"
      },
      "execution_count": 77,
      "outputs": [
        {
          "output_type": "stream",
          "name": "stderr",
          "text": [
            "/usr/local/lib/python3.10/dist-packages/torch/utils/data/dataloader.py:557: UserWarning: This DataLoader will create 4 worker processes in total. Our suggested max number of worker in current system is 2, which is smaller than what this DataLoader is going to create. Please be aware that excessive worker creation might get DataLoader running slow or even freeze, lower the worker number to avoid potential slowness/freeze if necessary.\n",
            "  warnings.warn(_create_warning_msg(\n"
          ]
        }
      ]
    },
    {
      "cell_type": "code",
      "source": [
        "pos_rw, neg_rw = next(iter(loader))\n",
        "def train():\n",
        "    model.train()\n",
        "    total_loss = 0\n",
        "    for pos_rw, neg_rw in loader:\n",
        "        optimizer.zero_grad()\n",
        "        loss = model.loss(pos_rw.to(device), neg_rw.to(device))\n",
        "        loss.backward()\n",
        "        optimizer.step()\n",
        "        total_loss += loss.item()\n",
        "    return total_loss / len(loader)\n",
        "\n"
      ],
      "metadata": {
        "id": "KYqEAwxKPPqx"
      },
      "execution_count": 78,
      "outputs": []
    },
    {
      "cell_type": "code",
      "source": [
        "# epochs = 0\n",
        "# prev_loss = -1\n",
        "# loss = 0\n",
        "# for i in range(15):\n",
        "#   prev_loss = loss\n",
        "#   loss = train()\n",
        "#   epochs +=1\n",
        "#   print(f'epochs - {epochs}')\n",
        "#   print(loss)\n"
      ],
      "metadata": {
        "id": "ad4NPhytX_OQ"
      },
      "execution_count": 79,
      "outputs": []
    },
    {
      "cell_type": "code",
      "source": [
        "# import pickle as pkl\n",
        "\n",
        "# with open('model.pkl','wb') as file:\n",
        "#   pkl.dump(model,file)"
      ],
      "metadata": {
        "id": "BpJ3kW8mAv_o"
      },
      "execution_count": 80,
      "outputs": []
    },
    {
      "cell_type": "code",
      "source": [
        "import pickle as pkl\n",
        "with open('model.pkl','rb') as file:\n",
        "  model = pkl.load(file)"
      ],
      "metadata": {
        "id": "xQTFMx1cF6oS"
      },
      "execution_count": 81,
      "outputs": []
    },
    {
      "cell_type": "code",
      "source": [
        "def get_embedding_from_nodetxt(model,text):\n",
        "  typ,id = node_id_mapping[text]\n",
        "  # print(typ)\n",
        "  input = torch.tensor([id])\n",
        "  embedding = model(typ,input)\n",
        "  return embedding\n",
        "\n"
      ],
      "metadata": {
        "id": "HZoj-0BY0jAs"
      },
      "execution_count": 82,
      "outputs": []
    },
    {
      "cell_type": "code",
      "source": [
        "from torch.nn import CosineSimilarity\n",
        "def get_similar_nodeemb_from_emb(model,emb):\n",
        "  nodeid=-1\n",
        "  nodetxt=''\n",
        "  nodeemb = []\n",
        "  maxcos=-2\n",
        "  cossim = CosineSimilarity()\n",
        "  for id,val in id_node_mapping.items():\n",
        "    # print(val)\n",
        "    temp = model(val[0],torch.tensor([id],device=device))\n",
        "    emb = emb.cuda(temp.get_device()) if temp.is_cuda else emb\n",
        "\n",
        "    simval = cossim(emb,temp)\n",
        "\n",
        "    if simval>maxcos:\n",
        "      nodeid = id\n",
        "      nodetxt = val[1]\n",
        "      nodeemb = temp\n",
        "      maxcos = simval\n",
        "  return nodeid, nodetxt, nodeemb\n",
        "\n",
        "# print(get_similar_nodeemb_from_emb(model,model('title',torch.tensor([0],device=device))))"
      ],
      "metadata": {
        "id": "PvRBnRSpGitE"
      },
      "execution_count": 83,
      "outputs": []
    },
    {
      "cell_type": "code",
      "source": [
        "from sentence_transformers import SentenceTransformer\n",
        "st_model = SentenceTransformer('sentence-transformers/all-MiniLM-L6-v2')\n",
        "for param in st_model.parameters():\n",
        "    param.requires_grad = False\n"
      ],
      "metadata": {
        "id": "Y9kwQt3WpASW"
      },
      "execution_count": 84,
      "outputs": []
    },
    {
      "cell_type": "code",
      "source": [
        "qanda = []\n",
        "alltext = \"\"\n",
        "with open(\"dataset.txt\", \"r\") as file:\n",
        "  for line in file:\n",
        "    alltext += line\n",
        "\n",
        "qanda = alltext.split(\"\\n\\n\")\n",
        "\n",
        "qanda_sep = []\n",
        "for qa in qanda:\n",
        "  qa = qa.split(\"\\n\")\n",
        "  if(len(qa)<2):\n",
        "    continue\n",
        "  q = qa[0]\n",
        "  a = qa[1][8:]\n",
        "  qanda_sep.append([q,a])"
      ],
      "metadata": {
        "id": "BFeJYbQ7pHBK"
      },
      "execution_count": 85,
      "outputs": []
    },
    {
      "cell_type": "code",
      "source": [
        "print(qanda_sep)"
      ],
      "metadata": {
        "colab": {
          "base_uri": "https://localhost:8080/"
        },
        "id": "l1dXGvxGrWNM",
        "outputId": "d5bf0a81-4816-4e25-ccaa-670e4f3aea03"
      },
      "execution_count": 86,
      "outputs": [
        {
          "output_type": "stream",
          "name": "stdout",
          "text": [
            "[['In which year was the movie \"Interstellar\" with Matthew McConaughey released?', '2014'], ['Identify a 2015 film starring Jennifer Lawrence.', 'The Hunger Games: Mockingjay - Part 2'], ['Name a movie released in 2013 with Christian Bale in the lead role.', 'American Hustle'], ['Can you mention a 2016 release that shares its lead actor with \"Deadpool\"?', 'Deadpool'], ['Which film stars Leonardo DiCaprio and was released in 2015?', 'The Revenant'], ['What is the title of the 2014 movie featuring Scarlett Johansson?', 'Lucy'], ['Which 2016 movie stars Henry Cavill and Ben Affleck?', 'Batman v Superman: Dawn of Justice'], ['In which year was the movie \"The Martian\" with Matt Damon released?', '2015'], ['Identify a film from 2013 that stars Sandra Bullock.', 'Gravity'], ['Name a 2013 release with Hugh Jackman as the lead actor.', 'The Wolverine'], ['Can you mention a 2012 movie with Anne Hathaway in the lead role?', 'Les Misérables'], ['What is the title of the film from 2016 featuring Margot Robbie?', 'Suicide Squad'], ['Which 2014 movie stars Dwayne Johnson?', 'Hercules'], ['In which year was the movie \"The Girl on the Train\" released with Emily Blunt?', '2016'], ['Identify a 2015 film starring Tom Hardy.', 'Mad Max: Fury Road'], ['Name a movie from 2015 with Mark Ruffalo in a leading role.', 'Spotlight'], ['Can you mention a 2016 release that shares its lead actor with \"Fantastic Beasts and Where to Find Them\"?', 'Fantastic Beasts and Where to Find Them'], ['Which film stars Will Smith and was released in 2016?', 'Suicide Squad'], ['What is the title of the 2014 movie featuring Channing Tatum?', 'Jupiter Ascending'], ['Which 2016 movie stars Felicity Jones?', 'Rogue One'], ['In which year was the movie \"Hacksaw Ridge\" with Andrew Garfield released?', '2016'], ['Identify a 2016 film starring Ryan Gosling.', 'La La Land'], ['Name a movie released in 2014 with Jake Gyllenhaal in the lead role.', 'Nightcrawler'], ['Can you mention a 2016 release that shares its lead actor with \"Doctor Strange\"?', 'Doctor Strange'], ['Which film stars Matthew McConaughey and was released in 2014?', 'Interstellar'], ['What is the title of the 2015 movie featuring Alicia Vikander?', 'The Danish Girl'], ['Which 2016 movie stars Ben Affleck?', 'The Accountant'], ['In which year was the movie \"Captain America: Civil War\" released with Chris Evans?', '2016'], ['Identify a film from 2016 that stars Tom Hanks.', 'Sully'], ['Name a 2015 release with Brie Larson as the lead actress.', 'Room'], ['Can you mention a 2015 movie with Cate Blanchett in the lead role?', 'Carol'], ['What is the title of the film from 2016 featuring Amy Adams?', 'Arrival'], ['Which 2016 movie stars Matthew McConaughey?', 'Gold'], ['In which year was the movie \"The Nice Guys\" released with Russell Crowe?', '2016'], ['Identify a 2015 film starring Saoirse Ronan.', 'Brooklyn'], ['Name a movie from 2015 with Michael Fassbender in a leading role.', 'Steve Jobs'], ['Can you mention a 2016 release that shares its lead actor with \"Zootopia\"?', 'Zootopia'], ['Which film stars Margot Robbie and was released in 2016?', 'Suicide Squad'], ['What is the title of the 2016 movie featuring Will Smith?', 'Suicide Squad'], ['Which 2016 movie stars Tom Hanks?', 'Inferno'], ['In which year was the movie \"Jason Bourne\" with Matt Damon released?', '2016'], ['Identify a 2016 film starring Dev Patel.', 'Lion'], ['Name a movie released in 2016 with Amy Adams in the lead role.', 'Arrival'], ['Can you mention a 2016 release that shares its lead actor with \"War Dogs\"?', 'War Dogs'], ['Which film stars Emma Stone and was released in 2016?', 'La La Land'], ['What is the title of the 2016 movie featuring Charlize Theron?', \"The Huntsman: Winter's War\"], ['Which 2016 movie stars Chris Pratt?', 'Passengers'], ['In which year was the movie \"Star Trek Beyond\" released with Chris Pine?', '2016'], ['Identify a film from 2016 that stars Margot Robbie.', 'Suicide Squad'], ['Name a 2016 release with Felicity Jones as the lead actress.', 'Rogue One'], ['Can you mention a 2016 movie with Will Smith in the lead role?', 'Suicide Squad'], ['What is the title of the film from 2016 featuring Ben Affleck?', 'The Accountant'], ['Which 2016 movie stars Henry Cavill?', 'Batman v Superman: Dawn of Justice'], ['In which year was the movie \"Jackie\" released with Natalie Portman?', '2016'], ['Identify a 2016 film starring Matthew McConaughey.', 'Gold'], ['Name a movie from 2016 with Ryan Reynolds in a leading role.', 'Deadpool'], ['Can you mention a 2016 release that shares its lead actor with \"The Girl on the Train\"?', 'The Girl on the Train'], ['Which film stars Jennifer Lawrence and was released in 2016?', 'Passengers'], ['What is the title of the 2016 movie featuring Eddie Redmayne?', 'Fantastic Beasts and Where to Find Them'], ['Which 2016 movie stars Will Smith and Jared Leto?', 'Suicide Squad'], ['In which year was the movie \"Collateral Beauty\" with Will Smith released?', '2016'], ['Identify a 2016 film starring Margot Robbie.', 'Suicide Squad'], ['Name a movie released in 2016 with Chris Pratt in the lead role.', 'Passengers'], ['Can you mention a 2016 release that shares its lead actor with \"Doctor Strange\"?', 'Doctor Strange'], ['Which film stars Ryan Gosling and was released in 2016?', 'La La Land'], ['What is the title of the 2016 movie featuring Ben Affleck and Henry Cavill?', 'Batman v Superman: Dawn of Justice'], ['Which 2016 movie stars Emma Stone and Ryan Gosling?', 'La La Land'], ['In which year was the movie \"The Accountant\" with Ben Affleck released?', '2016'], ['Identify a film from 2016 that stars Matt Damon.', 'Jason Bourne'], ['Name a 2016 release with Amy Adams as the lead actress.', 'Arrival'], ['Can you mention a 2016 movie with Will Smith in the lead role?', 'Collateral Beauty'], ['What is the title of the film from 2016 featuring Felicity Jones and Diego Luna?', 'Rogue One'], ['Which 2016 movie stars Chris Pratt and Jennifer Lawrence?', 'Passengers'], ['In which year was the movie \"War Dogs\" with Jonah Hill released?', '2016'], ['Identify a 2016 film starring Natalie Portman.', 'Jackie'], ['Name a movie from 2016 with Michael Fassbender in a leading role.', \"Assassin's Creed\"], ['Can you mention a 2016 release that shares its lead actor with \"Fantastic Beasts and Where to Find Them\"?', 'Fantastic Beasts and Where to Find Them'], ['Which film stars Will Smith and Keira Knightley and was released in 2016?', 'Collateral Beauty'], ['What is the title of the 2016 movie featuring Chris Pine and Zachary Quinto?', 'Star Trek Beyond'], ['Which 2016 movie stars Hugh Jackman and Taron Egerton?', 'Eddie the Eagle'], ['In which year was the sci-fi movie \"The Martian\" starring Matt Damon and Jessica Chastain released?', '2015'], ['Can you name a film from 2014 that features Chris Pratt, Zoe Saldana, and Bradley Cooper?', 'Guardians of the Galaxy'], ['Which movie from 2016 had a lead cast including Ryan Reynolds, Morena Baccarin, and Ed Skrein?', 'Deadpool'], ['Identify a 2015 film with Charlize Theron and Tom Hardy in the lead roles.', 'Mad Max: Fury Road'], ['Name a 2016 release where Chris Evans and Robert Downey Jr. share the screen.', 'Captain America: Civil War'], [\"What's the title of the 2016 film starring Will Smith and Margot Robbie?\", 'Focus'], ['Which 2014 movie featured Matthew McConaughey, Anne Hathaway, and Jessica Chastain?', 'Interstellar'], ['Can you mention a 2015 film with Saoirse Ronan, Emory Cohen, and Domhnall Gleeson?', 'Brooklyn'], ['In which year was the animated movie \"Inside Out\" with the voices of Amy Poehler and Bill Hader released?', '2015'], ['Identify a 2016 film starring Jared Leto and Will Smith.', 'Suicide Squad'], ['Which movie from 2016 featured Ryan Gosling and Russell Crowe as the lead actors?', 'The Nice Guys'], ['Name a 2015 release with Cate Blanchett and Rooney Mara in the leading roles.', 'Carol'], ['What is the title of the 2016 movie featuring Chris Hemsworth and Charlize Theron?', \"The Huntsman: Winter's War\"], ['Can you name a film from 2016 that stars Eddie Redmayne, Katherine Waterston, and Colin Farrell?', 'Fantastic Beasts and Where to Find Them'], ['In which year was the action-packed film \"X-Men: Apocalypse\" with James McAvoy released?', '2016'], ['Which movie from 2016 had a lead cast including Felicity Jones and Diego Luna?', 'Rogue One'], ['Identify a 2015 film with Johnny Depp and Joel Edgerton in the lead roles.', 'Black Mass'], ['Can you mention a 2016 release that shares its lead actor with \"Sausage Party\"?', 'Sausage Party'], [\"What's the title of the 2016 movie starring Meryl Streep and Hugh Grant?\", 'Florence Foster Jenkins'], ['Which 2015 movie stars Matt Damon, Jessica Chastain, and Jeff Daniels?', 'The Martian'], ['In which year was the animated film \"Zootopia\" with Ginnifer Goodwin and Jason Bateman released?', '2016'], ['Can you name a 2015 movie with Chris Hemsworth, Benjamin Walker, and Cillian Murphy in the lead roles?', 'In the Heart of the Sea'], ['Which movie from 2016 had a lead cast including Mark Ruffalo, Michael Keaton, and Rachel McAdams?', 'Spotlight'], ['Identify a 2016 film starring Will Ferrell and Mark Wahlberg.', \"Daddy's Home\"], ['Name a 2015 release with Alicia Vikander and Eddie Redmayne in the leading roles.', 'The Danish Girl'], ['What is the title of the 2016 movie featuring Henry Cavill and Armie Hammer?', 'The Man from U.N.C.L.E.'], ['In which year was the science fiction film \"Ex Machina\" with Domhnall Gleeson released?', '2014'], ['Can you mention a 2016 release that shares its lead actor with \"The Revenant\"?', 'The Revenant'], ['Which movie from 2015 featured Tom Hardy and Emily Browning as the lead actors?', 'Legend'], ['Identify a 2016 film starring Johnny Depp and Anne Hathaway.', 'Alice Through the Looking Glass'], [\"What's the title of the 2016 movie starring Seth Rogen and Rose Byrne?\", 'Neighbors 2: Sorority Rising'], ['Which 2016 movie stars Chris Evans and Robert Downey Jr. and also features Scarlett Johansson?', 'Captain America: Civil War'], ['In which year was the action-packed film \"Captain America: The Winter Soldier\" with Chris Evans released?', '2014'], ['Can you name a film from 2016 that stars Gerard Butler and Aaron Eckhart?', 'London Has Fallen'], ['Which movie from 2016 had a lead cast including Amy Adams and Jeremy Renner?', 'Arrival'], ['Identify a 2015 film with Brie Larson and Jacob Tremblay in the lead roles.', 'Room'], ['What is the title of the 2016 movie featuring Rachel McAdams and Colin Farrell?', 'True Crimes'], ['In which year was the romantic drama \"The Light Between Oceans\" with Alicia Vikander and Michael Fassbender released?', '2016'], ['Can you mention a 2016 release that shares its lead actor with \"Zoolander 2\"?', 'Zoolander 2'], ['Which 2015 movie stars Matt Damon and Jessica Chastain and is set in space?', 'The Martian'], ['In which year was the science fiction film \"Elysium\" with Matt Damon and Jodie Foster released?', '2013'], ['Can you name a 2016 movie with James McAvoy, Anya Taylor-Joy, and Betty Buckley in the cast?', 'Split'], ['Which movie from 2016 had a lead cast including Dwayne Johnson, Carla Gugino, and Alexandra Daddario?', 'San Andreas'], ['Identify a 2014 film starring Chris Pratt and Zoe Saldana.', 'Guardians of the Galaxy'], ['Name a 2016 release with Meryl Streep, Hugh Grant, and Simon Helberg in the leading roles.', 'Florence Foster Jenkins'], ['What is the title of the 2016 movie featuring Matthew McConaughey and Bryce Dallas Howard?', 'Gold'], ['In which year was the action-comedy film \"Now You See Me 2\" with Jesse Eisenberg released?', '2016'], ['Can you mention a 2015 release that shares its lead actor with \"The Revenant\"?', 'The Revenant'], ['Which movie from 2014 featured Shailene Woodley and Ansel Elgort as the lead actors?', 'The Fault in Our Stars'], ['Identify a 2016 film starring Ben Affleck and Anna Kendrick.', 'The Accountant'], [\"What's the title of the 2016 movie starring Ryan Reynolds and Morena Baccarin?\", 'Deadpool'], ['Which 2015 movie stars Michael Fassbender, Kate Winslet, and Seth Rogen?', 'Steve Jobs'], ['In which year was the mystery thriller \"The Girl on the Train\" with Emily Blunt released?', '2016'], ['Can you name a film from 2016 that stars Chris Hemsworth, Jessica Chastain, and Emily Blunt?', \"The Huntsman: Winter's War\"], ['Which movie from 2016 had a lead cast including Daniel Radcliffe, Paul Dano, and Mary Elizabeth Winstead?', 'Swiss Army Man'], ['Identify a 2014 film with Scarlett Johansson and Morgan Freeman in the lead roles.', 'Lucy'], ['What is the title of the 2016 movie featuring Amy Adams and Jake Gyllenhaal?', 'Nocturnal Animals'], ['In which year was the animated film \"Zootopia\" with the voices of Ginnifer Goodwin and Jason Bateman released?', '2016'], ['Can you mention a 2015 release that shares its lead actor with \"Mad Max: Fury Road\"?', 'Mad Max: Fury Road'], ['Which 2016 movie stars Margot Robbie, Jared Leto, and Will Smith?', 'Suicide Squad'], ['In which year did \"The Danish Girl\" featuring Eddie Redmayne and Alicia Vikander hit the screens?', '2015'], ['Who played the role of Lisbeth Salander in the movie \"The Girl with the Dragon Tattoo\" (2011)?', 'Rooney Mara'], ['Name a 2015 film in which Tom Hanks starred as a lawyer who negotiates the exchange of captured American U-2 pilot Francis Gary Powers for Soviet spy Rudolf Abel.', 'Bridge of Spies'], ['In which year was a science fiction film released, directed by Christopher Nolan and starring Matthew McConaughey, with a title related to time and space?', '2014'], ['Who portrayed the character of Niki Lauda in \"Rush,\" a biographical sports drama film?', 'Daniel Brühl'], ['Name a 2015 film with a title that refers to a group of seven bounty hunters seeking vengeance.', 'The Hateful Eight'], ['In which year was a film set in the post-apocalyptic Australian wasteland, featuring a character named Max, released?', '2015'], ['Who played the lead role in \"The Wolf of Wall Street,\" a black comedy crime film directed by Martin Scorsese?', 'Leonardo DiCaprio'], ['Name a 2014 film where Benedict Cumberbatch portrayed Alan Turing, a mathematician who cracked the Enigma code during World War II.', 'The Imitation Game'], ['In which year did the science fiction film \"Lucy,\" starring Scarlett Johansson, explore the concept of unlocking the full potential of the human mind?', '2014'], ['Who played the character of a young chef in \"Chef,\" a comedy-drama film written and directed by Jon Favreau?', 'Jon Favreau'], ['Name a 2015 release in which Matt Damon played an astronaut stranded on Mars.', 'The Martian'], ['In which year did the film \"Birdman\" win the Academy Award for Best Picture and featured Michael Keaton as a washed-up actor?', '2014'], ['Who portrayed the iconic character of \"Mad Max\" in the 2015 action film \"Mad Max: Fury Road\"?', 'Tom Hardy'], ['Name a 2016 film starring Emily Blunt as a woman entangled in a Mexican drug cartel.', 'Sicario'], ['In which year was \"Jurassic World\" released, featuring Chris Pratt and Bryce Dallas Howard in a dinosaur theme park adventure?', '2015'], ['Who played the lead role in the 2014 film \"Whiplash,\" a drama about a young drummer and his intense music instructor?', 'Miles Teller'], ['Name a 2015 movie in which Jennifer Lawrence starred as a woman who invents a mop and builds a business empire.', 'Joy'], ['In which year did a biographical drama film featuring Eddie Redmayne as Stephen Hawking and Felicity Jones as his wife, Jane, release?', '2014'], ['Who portrayed the character of Lisbeth Salander in the 2018 film \"The Girl in the Spider\\'s Web\"?', 'Claire Foy']]\n"
          ]
        }
      ]
    },
    {
      "cell_type": "code",
      "source": [
        "import torch\n",
        "from torch.utils.data import Dataset\n",
        "class CustomDataset(Dataset):\n",
        "    def __init__(self, data):\n",
        "        self.data = data\n",
        "\n",
        "    def __len__(self):\n",
        "        return len(self.data)\n",
        "\n",
        "    def __getitem__(self, idx):\n",
        "        # Assuming your DataFrame has columns 'feature_column' and 'label_column'\n",
        "        text = self.data[idx][0]\n",
        "        node_id = self.data[idx][1]\n",
        "        # features = features.to(device)\n",
        "        # label = label.to(device)\n",
        "        return text, node_id"
      ],
      "metadata": {
        "id": "smLS5VTJt59e"
      },
      "execution_count": 87,
      "outputs": []
    },
    {
      "cell_type": "code",
      "source": [
        "# from torch.utils.data import DataLoader\n",
        "\n",
        "# dataset = CustomDataset(qanda_sep)\n",
        "\n",
        "# train_dataloader = DataLoader(dataset, shuffle=True, batch_size=8)\n"
      ],
      "metadata": {
        "id": "ZFnhCFILucIQ"
      },
      "execution_count": 88,
      "outputs": []
    },
    {
      "cell_type": "code",
      "source": [
        "# from sentence_transformers import SentenceTransformer, InputExample, losses\n",
        "# from torch.utils.data import DataLoader\n",
        "# train_loss = losses.CosineSimilarityLoss(st_model)\n",
        "# training_examples = [InputExample(texts = i,label=1.0) for i in qanda_sep]\n",
        "# # training_examples.extend([InputExample(texts = i,label=0.0) for i in neg_samples])\n",
        "# train_dataloader = DataLoader(training_examples, shuffle=True, batch_size=8)\n",
        "# st_model.fit(train_objectives=[(train_dataloader, train_loss)], epochs=5, warmup_steps=100)"
      ],
      "metadata": {
        "id": "2woquSLgufCh"
      },
      "execution_count": 89,
      "outputs": []
    },
    {
      "cell_type": "code",
      "source": [
        "import pandas as pd\n",
        "df = pd.read_csv('IMDB-Movie-Data.csv')"
      ],
      "metadata": {
        "id": "HM-m74vnbzlC"
      },
      "execution_count": 90,
      "outputs": []
    },
    {
      "cell_type": "code",
      "source": [
        "from torch.optim import AdamW\n",
        "from torch.nn import CosineEmbeddingLoss\n",
        "from torch.nn import Linear\n",
        "from torch import from_numpy\n",
        "device = 'cuda' if torch.cuda.is_available() else 'cpu'\n",
        "\n",
        "optimizer = AdamW(st_model.parameters(), lr=1e-3)\n",
        "from transformers import get_scheduler\n",
        "cosine_loss = torch.nn.CosineEmbeddingLoss()\n",
        "\n",
        "new_layer = Linear(384,384, device=device)\n",
        "\n",
        "num_epochs = 3\n",
        "num_training_steps = num_epochs * 160\n",
        "lr_scheduler = get_scheduler(\n",
        "    name=\"linear\", optimizer=optimizer, num_warmup_steps=0, num_training_steps=num_training_steps\n",
        ")\n",
        "\n",
        "# for epoch in range(1):\n",
        "#     for batch in train_dataloader:\n",
        "#         inp , val = batch\n",
        "#         # print(val)\n",
        "#         # batch = {k: v.to(device) for k, v in batch.items()}\n",
        "#         # print(batch)\n",
        "#         emb = st_model(batch)\n",
        "#         # qemb = st_model.encode(inp)\n",
        "#         # aemb = st_model.encode(val)\n",
        "#         # print(len(outputs[0]))\n",
        "#         targets = torch.ones(len(batch[0]))\n",
        "#         # print(targets)]\n",
        "#         ans_emb=[]\n",
        "#         # for a in batch[1]:\n",
        "#         #   try:\n",
        "#         #     model.wv[a]\n",
        "#         #   except:\n",
        "#         #     for\n",
        "#         #       model.wv[]\n",
        "#         # loss = cosine_loss(model.wv[], emb,targets )\n",
        "#         # # print(loss)\n",
        "#         # loss.backward()\n",
        "\n",
        "#         # optimizer.step()\n",
        "#         # lr_scheduler.step()\n",
        "#         # optimizer.zero_grad()\n",
        "\n",
        "for epoch in range(5):\n",
        "  for q,a in qanda_sep:\n",
        "    try:\n",
        "      qemb = st_model.encode(a)\n",
        "      qemb = torch.tensor(qemb,device=device)\n",
        "      qemb = new_layer(qemb)\n",
        "      targets = torch.ones(1, device = device)\n",
        "      aemb = []\n",
        "      try:\n",
        "        aemb = get_embedding_from_nodetxt(model,a)\n",
        "      except:\n",
        "        row = df.loc[df['Title'] == a]\n",
        "        temp = a+'___'+str(df['Year'][row.index[0]])\n",
        "        aemb = get_embedding_from_nodetxt(model,a)\n",
        "      aemb = torch.tensor(aemb, device=device)\n",
        "      aemb = torch.reshape(aemb,(1,384))\n",
        "      qemb = torch.unsqueeze(qemb, 0)\n",
        "      loss =  cosine_loss(aemb, qemb,targets )\n",
        "      print(loss)\n",
        "      loss.backward()\n",
        "      optimizer.step()\n",
        "      lr_scheduler.step()\n",
        "      optimizer.zero_grad()\n",
        "    except:\n",
        "      continue\n"
      ],
      "metadata": {
        "id": "vnwleMvOstLC"
      },
      "execution_count": 91,
      "outputs": []
    },
    {
      "cell_type": "code",
      "source": [
        "from torch import from_numpy\n",
        "for q,a in qanda_sep:\n",
        "  emb = st_model.encode(q)\n",
        "  emb = from_numpy(emb)\n",
        "  emb = torch.tensor(emb,device=device)\n",
        "  emb = new_layer(emb)\n",
        "  emb = emb.reshape((1,384))\n",
        "  # print(emb.shape)\n",
        "  # print(emb)\n",
        "  nodeid, nodetxt, nodeemb = get_similar_nodeemb_from_emb(model,emb)\n",
        "  print(f'actual = {a}',f'retrieved = {nodetxt}')\n",
        "  # print(nodetxt)\n",
        "\n"
      ],
      "metadata": {
        "colab": {
          "base_uri": "https://localhost:8080/"
        },
        "id": "7WnBAm5WYhod",
        "outputId": "60eca882-b477-4b3f-e683-e16f073ead54"
      },
      "execution_count": 97,
      "outputs": [
        {
          "output_type": "stream",
          "name": "stderr",
          "text": [
            "<ipython-input-97-bb02c9da03e5>:5: UserWarning: To copy construct from a tensor, it is recommended to use sourceTensor.clone().detach() or sourceTensor.clone().detach().requires_grad_(True), rather than torch.tensor(sourceTensor).\n",
            "  emb = torch.tensor(emb,device=device)\n"
          ]
        }
      ]
    }
  ]
}
