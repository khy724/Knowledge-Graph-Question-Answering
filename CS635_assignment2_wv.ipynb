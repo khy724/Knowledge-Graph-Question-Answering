{
  "cells": [
    {
      "cell_type": "code",
      "execution_count": null,
      "metadata": {
        "colab": {
          "base_uri": "https://localhost:8080/"
        },
        "id": "-0zpvVaJYb5y",
        "outputId": "29373b0e-151f-4f42-fa82-ebd8c78f689e"
      },
      "outputs": [
        {
          "name": "stdout",
          "output_type": "stream",
          "text": [
            "Mounted at /content/drive\n"
          ]
        }
      ],
      "source": [
        "from google.colab import drive\n",
        "drive.mount('/content/drive')"
      ]
    },
    {
      "cell_type": "code",
      "execution_count": null,
      "metadata": {
        "colab": {
          "base_uri": "https://localhost:8080/"
        },
        "id": "0tFIANy8a-Jx",
        "outputId": "21dded1e-d7af-455e-efc8-3496a19596a1"
      },
      "outputs": [
        {
          "name": "stdout",
          "output_type": "stream",
          "text": [
            "/content/drive/MyDrive/IMDB/stellargraph\n"
          ]
        }
      ],
      "source": [
        "cd /content/drive/MyDrive/IMDB"
      ]
    },
    {
      "cell_type": "code",
      "source": [
        "# To be run locally"
      ],
      "metadata": {
        "id": "2SBkW7Grw4os"
      },
      "execution_count": null,
      "outputs": []
    },
    {
      "cell_type": "code",
      "execution_count": null,
      "metadata": {
        "id": "N-21lw-UtHf9"
      },
      "outputs": [],
      "source": [
        "import stellargraph as sg"
      ]
    },
    {
      "cell_type": "code",
      "execution_count": null,
      "metadata": {
        "id": "oMxzPFMLtHf9"
      },
      "outputs": [],
      "source": [
        "import pandas as pd\n",
        "data = pd.read_csv('./IMDB-Movie-Data.csv')\n",
        "counter = 0\n",
        "# node_id_mapping = {}\n",
        "# id_node_mapping = {}\n",
        "title_nodes = []\n",
        "genre_nodes = []\n",
        "person_nodes = []\n",
        "# director_nodes = []\n",
        "year_nodes = []\n",
        "# edge_dict = {'source':[],'target':[]}\n",
        "edge_dict_tp = {'source':[],'target':[],\"is actor\":[]}\n",
        "# edge_dict_pt = {'source':[],'target':[],\"is actor\":[]}\n",
        "edge_dict_tg = {'source':[],'target':[]}\n",
        "# edge_dict_gt = {'source':[],'target':[]}\n",
        "edge_dict_ty = {'source':[],'target':[]}\n",
        "# edge_dict_yt = {'source':[],'target':[]}\n",
        "# edge_type = []\n",
        "for i in data.index:\n",
        "    title = data['Title'][i].strip() + '___' + str(data['Year'][i]).strip()\n",
        "    genre = data['Genre'][i].strip().split(',')\n",
        "    actors = data['Actors'][i].strip().split(',')\n",
        "    director = data['Director'][i].strip()\n",
        "    year = str(data['Year'][i])\n",
        "    title_nodes.append(title)\n",
        "    for g in genre:\n",
        "        if g not in genre_nodes:\n",
        "            genre_nodes.append(g)\n",
        "        # edge_dict_gt[\"source\"].append(g)\n",
        "        # edge_dict_gt[\"target\"].append(title)\n",
        "        edge_dict_tg[\"source\"].append(title)\n",
        "        edge_dict_tg[\"target\"].append(g)\n",
        "        # edge_type.append(\"genre of movie\")\n",
        "        # edge_type.append(\"movie of type genre\")\n",
        "\n",
        "\n",
        "    for a in actors:\n",
        "        if a not in person_nodes:\n",
        "            # if(a==\"Mel Gibson\"):\n",
        "            #     print(\"Mel Gibson\")\n",
        "            person_nodes.append(a)\n",
        "        # edge_dict_pt[\"source\"].append(a)\n",
        "        # edge_dict_pt[\"target\"].append(title)\n",
        "        # edge_dict_pt[\"is actor\"].append(1)\n",
        "        edge_dict_tp[\"source\"].append(title)\n",
        "        edge_dict_tp[\"target\"].append(a)\n",
        "        edge_dict_tp[\"is actor\"].append(1)\n",
        "        # edge_type.append(\"actor of movie\")\n",
        "        # edge_type.append(\"movie has actor\")\n",
        "\n",
        "\n",
        "    if director not in person_nodes:\n",
        "        # if(a==\"Mel Gibson\"):\n",
        "        #     print(\"Mel Gibson\")\n",
        "        person_nodes.append(director)\n",
        "    # edge_dict_pt[\"source\"].append(director)\n",
        "    # edge_dict_pt[\"target\"].append(title)\n",
        "    # edge_dict_pt[\"is actor\"].append(0)\n",
        "    edge_dict_tp[\"source\"].append(title)\n",
        "    edge_dict_tp[\"target\"].append(director)\n",
        "    edge_dict_tp[\"is actor\"].append(0)\n",
        "    # edge_type.append(\"director of movie\")\n",
        "    # edge_type.append(\"movie was directed by\")\n",
        "\n",
        "    if year not in year_nodes:\n",
        "        year_nodes.append(year)\n",
        "    # edge_dict_yt[\"source\"].append(year)\n",
        "    # edge_dict_yt[\"target\"].append(title)\n",
        "    edge_dict_ty[\"source\"].append(title)\n",
        "    edge_dict_ty[\"target\"].append(year)\n",
        "    # edge_type.append(\"year of the movie\")\n",
        "    # edge_type.append(\"movie was released in the year\")\n"
      ]
    },
    {
      "cell_type": "code",
      "execution_count": null,
      "metadata": {
        "id": "Vp3iYYjBtHf-"
      },
      "outputs": [],
      "source": [
        "import pandas as pd\n",
        "counter = 0\n",
        "tp_edges = pd.DataFrame(edge_dict_tp,index=range(len(edge_dict_tp[\"source\"])))\n",
        "counter += len(edge_dict_tp[\"source\"])\n",
        "tg_edges = pd.DataFrame(edge_dict_tg,index = range(counter,counter+len(edge_dict_tg[\"source\"])))\n",
        "counter += len(edge_dict_tg[\"source\"])\n",
        "ty_edges = pd.DataFrame(edge_dict_ty, index = range(counter,counter+len(edge_dict_ty[\"source\"])))\n",
        "# data_edges = pd.DataFrame(edge_dict)\n",
        "# data_edges_types = data_edges.assign(\n",
        "#     orientation=edge_type\n",
        "# )\n",
        "data_title = pd.DataFrame(index=title_nodes)\n",
        "data_genre = pd.DataFrame(index=genre_nodes)\n",
        "data_person = pd.DataFrame(index=person_nodes)\n",
        "# data_director = pd.DataFrame(index=director_nodes)\n",
        "data_year = pd.DataFrame(index=year_nodes)\n",
        "\n",
        "graph = sg.StellarGraph({\"title\": data_title, \"genre\": data_genre,\"person\":data_person,\"year\":data_year}, edges = {\n",
        "    \"movie's actor or director\": tp_edges,\n",
        "    \"movie genre\": tg_edges,\n",
        "    \"movie year\": ty_edges\n",
        "})"
      ]
    },
    {
      "cell_type": "code",
      "execution_count": null,
      "metadata": {
        "id": "kaDNjFEBtHf_",
        "outputId": "83ece210-f1e9-4095-fd7c-e0f0fa56cd21"
      },
      "outputs": [
        {
          "name": "stdout",
          "output_type": "stream",
          "text": [
            "Number of random walks: 40470\n"
          ]
        }
      ],
      "source": [
        "from stellargraph.data import BiasedRandomWalk\n",
        "\n",
        "rw = BiasedRandomWalk(graph)\n",
        "\n",
        "walks = rw.run(\n",
        "    nodes=list(graph.nodes()),  # root nodes\n",
        "    length=10,  # maximum length of a random walk\n",
        "    n=10,  # number of random walks per root node\n",
        "    p=0.5,  # Defines (unormalised) probability, 1/p, of returning to source node\n",
        "    q=2.0,  # Defines (unormalised) probability, 1/q, for moving away from source node\n",
        ")\n",
        "print(\"Number of random walks: {}\".format(len(walks)))"
      ]
    },
    {
      "cell_type": "code",
      "execution_count": null,
      "metadata": {
        "id": "j_dTfDQctHgA",
        "outputId": "7ba45032-34b4-46ae-da98-728d290fd188"
      },
      "outputs": [
        {
          "data": {
            "text/plain": [
              "[(' Raoul Max Trujillo', 0.8749773502349854),\n",
              " ('Jean-François Richet', 0.8466120362281799),\n",
              " ('Hacksaw Ridge___2016', 0.8343835473060608),\n",
              " ('Gerardo Taracena', 0.8070732355117798),\n",
              " ('Rudy Youngblood', 0.8035344481468201),\n",
              " (' Dalia Hernández', 0.8004264235496521),\n",
              " ('Blood Father___2016', 0.7778957486152649),\n",
              " ('Apocalypto___2006', 0.7708219289779663),\n",
              " (' Sam Worthington', 0.761360764503479),\n",
              " ('Teresa Palmer', 0.7571280598640442)]"
            ]
          },
          "execution_count": 34,
          "metadata": {},
          "output_type": "execute_result"
        }
      ],
      "source": [
        "model.wv.most_similar('Mel Gibson')"
      ]
    },
    {
      "cell_type": "code",
      "execution_count": null,
      "metadata": {
        "id": "u_bjO3q_tHf_"
      },
      "outputs": [],
      "source": [
        "import pickle as pkl\n",
        "with open('walks_ud.pkl','wb') as file:\n",
        "    pkl.dump(walks,file)"
      ]
    },
    {
      "cell_type": "markdown",
      "source": [
        "Start running from here"
      ],
      "metadata": {
        "id": "nuVSeQ7txLdQ"
      }
    },
    {
      "cell_type": "code",
      "source": [
        "pip install -U sentence-transformers"
      ],
      "metadata": {
        "id": "l4HdIZbbtbFZ"
      },
      "execution_count": null,
      "outputs": []
    },
    {
      "cell_type": "code",
      "source": [
        "import pandas as pd\n",
        "data = pd.read_csv('./IMDB-Movie-Data.csv')\n",
        "counter = 0\n",
        "# node_id_mapping = {}\n",
        "# id_node_mapping = {}\n",
        "title_nodes = []\n",
        "genre_nodes = []\n",
        "person_nodes = []\n",
        "# director_nodes = []\n",
        "year_nodes = []\n",
        "# edge_dict = {'source':[],'target':[]}\n",
        "edge_dict_tp = {'source':[],'target':[],\"is actor\":[]}\n",
        "# edge_dict_pt = {'source':[],'target':[],\"is actor\":[]}\n",
        "edge_dict_tg = {'source':[],'target':[]}\n",
        "# edge_dict_gt = {'source':[],'target':[]}\n",
        "edge_dict_ty = {'source':[],'target':[]}\n",
        "# edge_dict_yt = {'source':[],'target':[]}\n",
        "# edge_type = []\n",
        "for i in data.index:\n",
        "    title = data['Title'][i].strip() + '___' + str(data['Year'][i]).strip()\n",
        "    genre = data['Genre'][i].strip().split(',')\n",
        "    actors = data['Actors'][i].strip().split(',')\n",
        "    director = data['Director'][i].strip()\n",
        "    year = str(data['Year'][i])\n",
        "    title_nodes.append(title)\n",
        "    for g in genre:\n",
        "        if g not in genre_nodes:\n",
        "            genre_nodes.append(g)\n",
        "        # edge_dict_gt[\"source\"].append(g)\n",
        "        # edge_dict_gt[\"target\"].append(title)\n",
        "        edge_dict_tg[\"source\"].append(title)\n",
        "        edge_dict_tg[\"target\"].append(g)\n",
        "        # edge_type.append(\"genre of movie\")\n",
        "        # edge_type.append(\"movie of type genre\")\n",
        "\n",
        "\n",
        "    for a in actors:\n",
        "        if a not in person_nodes:\n",
        "            # if(a==\"Mel Gibson\"):\n",
        "            #     print(\"Mel Gibson\")\n",
        "            person_nodes.append(a)\n",
        "        # edge_dict_pt[\"source\"].append(a)\n",
        "        # edge_dict_pt[\"target\"].append(title)\n",
        "        # edge_dict_pt[\"is actor\"].append(1)\n",
        "        edge_dict_tp[\"source\"].append(title)\n",
        "        edge_dict_tp[\"target\"].append(a)\n",
        "        edge_dict_tp[\"is actor\"].append(1)\n",
        "        # edge_type.append(\"actor of movie\")\n",
        "        # edge_type.append(\"movie has actor\")\n",
        "\n",
        "\n",
        "    if director not in person_nodes:\n",
        "        # if(a==\"Mel Gibson\"):\n",
        "        #     print(\"Mel Gibson\")\n",
        "        person_nodes.append(director)\n",
        "    # edge_dict_pt[\"source\"].append(director)\n",
        "    # edge_dict_pt[\"target\"].append(title)\n",
        "    # edge_dict_pt[\"is actor\"].append(0)\n",
        "    edge_dict_tp[\"source\"].append(title)\n",
        "    edge_dict_tp[\"target\"].append(director)\n",
        "    edge_dict_tp[\"is actor\"].append(0)\n",
        "    # edge_type.append(\"director of movie\")\n",
        "    # edge_type.append(\"movie was directed by\")\n",
        "\n",
        "    if year not in year_nodes:\n",
        "        year_nodes.append(year)\n",
        "    # edge_dict_yt[\"source\"].append(year)\n",
        "    # edge_dict_yt[\"target\"].append(title)\n",
        "    edge_dict_ty[\"source\"].append(title)\n",
        "    edge_dict_ty[\"target\"].append(year)\n",
        "    # edge_type.append(\"year of the movie\")\n",
        "    # edge_type.append(\"movie was released in the year\")\n"
      ],
      "metadata": {
        "id": "KHorDsqdxJba"
      },
      "execution_count": null,
      "outputs": []
    },
    {
      "cell_type": "code",
      "execution_count": null,
      "metadata": {
        "id": "-MKWaqRltHgA",
        "outputId": "f1612ad4-1f0b-46fb-999b-51e63f0d394c"
      },
      "outputs": [
        {
          "data": {
            "text/plain": [
              "(384,)"
            ]
          },
          "execution_count": 45,
          "metadata": {},
          "output_type": "execute_result"
        }
      ],
      "source": [
        "from gensim.models import Word2Vec\n",
        "import pickle as pkl\n",
        "with open('walks_ud.pkl','rb') as file:\n",
        "  walks = pkl.load(file)\n",
        "str_walks = [[str(n) for n in walk] for walk in walks]\n",
        "model = Word2Vec(str_walks, vector_size=384, window=5, min_count=0, sg=1, workers=2)\n",
        "model.wv[\"Action\"].shape"
      ]
    },
    {
      "cell_type": "code",
      "source": [
        "nodes = []\n",
        "nodes.extend(title_nodes)\n",
        "nodes.extend(person_nodes)\n",
        "nodes.extend(genre_nodes)\n",
        "nodes.extend(year_nodes)"
      ],
      "metadata": {
        "id": "Nyq-sgMjtp86"
      },
      "execution_count": null,
      "outputs": []
    },
    {
      "cell_type": "code",
      "source": [
        "from torch.nn import CosineSimilarity\n",
        "from torch import from_numpy\n",
        "def get_similar_nodeemb_from_emb_wv(model,emb):\n",
        "  nodeid=-1\n",
        "  nodetxt=''\n",
        "  nodeemb = []\n",
        "  maxcos=-2\n",
        "  cossim = CosineSimilarity()\n",
        "  for node in nodes:\n",
        "    # print(val)\n",
        "    temp = torch.unsqueeze(from_numpy(model.wv[node]),0)\n",
        "    emb = emb.cuda(temp.get_device()) if temp.is_cuda else emb\n",
        "\n",
        "    simval = cossim(emb,temp)\n",
        "\n",
        "    if simval>maxcos:\n",
        "\n",
        "      nodetxt = node\n",
        "      nodeemb = temp\n",
        "      maxcos = simval\n",
        "  return nodetxt, nodeemb"
      ],
      "metadata": {
        "id": "mFUIRWPgtyRF"
      },
      "execution_count": null,
      "outputs": []
    },
    {
      "cell_type": "code",
      "execution_count": null,
      "metadata": {
        "id": "dXccVBQJtHf_"
      },
      "outputs": [],
      "source": [
        "from sentence_transformers import SentenceTransformer\n",
        "st_model = SentenceTransformer('sentence-transformers/all-MiniLM-L6-v2')\n",
        "for param in st_model.parameters():\n",
        "    param.requires_grad = True"
      ]
    },
    {
      "cell_type": "code",
      "execution_count": null,
      "metadata": {
        "id": "IRi5RuuutHf_"
      },
      "outputs": [],
      "source": [
        "qanda = []\n",
        "alltext = \"\"\n",
        "with open(\"dataset.txt\", \"r\") as file:\n",
        "  for line in file:\n",
        "    alltext += line\n",
        "\n",
        "qanda = alltext.split(\"\\n\\n\")\n",
        "\n",
        "qanda_sep = []\n",
        "for qa in qanda:\n",
        "  qa = qa.split(\"\\n\")\n",
        "  if(len(qa)<2):\n",
        "    continue\n",
        "  q = qa[0]\n",
        "  a = qa[1][8:]\n",
        "  qanda_sep.append([q,a])"
      ]
    },
    {
      "cell_type": "code",
      "execution_count": null,
      "metadata": {
        "id": "Cumwz0RrtHgA"
      },
      "outputs": [],
      "source": [
        "from torch.optim import AdamW\n",
        "from torch.nn import CosineEmbeddingLoss\n",
        "from torch.nn import Linear\n",
        "from torch import from_numpy\n",
        "device = 'cuda' if torch.cuda.is_available() else 'cpu'\n",
        "\n",
        "optimizer = AdamW(st_model.parameters(), lr=1e-3)\n",
        "from transformers import get_scheduler\n",
        "cosine_loss = torch.nn.CosineEmbeddingLoss()\n",
        "\n",
        "new_layer = Linear(384,384, device=device)\n",
        "\n",
        "num_epochs = 3\n",
        "num_training_steps = num_epochs * 160\n",
        "lr_scheduler = get_scheduler(\n",
        "    name=\"linear\", optimizer=optimizer, num_warmup_steps=0, num_training_steps=num_training_steps\n",
        ")\n",
        "for epoch in range(5):\n",
        "  for q,a in qanda_sep:\n",
        "    try:\n",
        "      qemb = st_model.encode(a)\n",
        "      qemb = torch.tensor(qemb,device=device)\n",
        "      qemb = new_layer(qemb)\n",
        "      targets = torch.ones(1, device = device)\n",
        "      aemb = []\n",
        "      try:\n",
        "        aemb = model.wv[a]\n",
        "      except:\n",
        "        row = df.loc[df['Title'] == a]\n",
        "        temp = a+'___'+str(df['Year'][row.index[0]])\n",
        "        aemb = model.wv[temp]\n",
        "      aemb = torch.tensor(aemb, device=device)\n",
        "      aemb = torch.reshape(aemb,(1,384))\n",
        "      qemb = torch.unsqueeze(qemb, 0)\n",
        "      loss =  cosine_loss(aemb, qemb,targets )\n",
        "      print(loss)\n",
        "      loss.backward()\n",
        "      optimizer.step()\n",
        "      lr_scheduler.step()\n",
        "      optimizer.zero_grad()\n",
        "    except:\n",
        "      continue"
      ]
    },
    {
      "cell_type": "code",
      "source": [
        "from torch import from_numpy\n",
        "for q,a in qanda_sep:\n",
        "  emb = st_model.encode(q)\n",
        "  emb = new_layer(emb)\n",
        "  emb = from_numpy(emb).reshape((1,384))\n",
        "  # print(emb.shape)\n",
        "  nodetxt, nodeemb = get_similar_nodeemb_from_emb_wv(model,emb)\n",
        "  print(f'actual = {a}',f'retrieved = {nodetxt}')\n",
        "  # print(nodetxt)"
      ],
      "metadata": {
        "id": "pHmKPWOouaAb"
      },
      "execution_count": null,
      "outputs": []
    },
    {
      "cell_type": "markdown",
      "metadata": {
        "id": "eQ6YdQ-HrsOg"
      },
      "source": []
    }
  ],
  "metadata": {
    "colab": {
      "provenance": []
    },
    "kernelspec": {
      "display_name": "Python 3",
      "name": "python3"
    },
    "language_info": {
      "codemirror_mode": {
        "name": "ipython",
        "version": 3
      },
      "file_extension": ".py",
      "mimetype": "text/x-python",
      "name": "python",
      "nbconvert_exporter": "python",
      "pygments_lexer": "ipython3",
      "version": "3.6.13"
    }
  },
  "nbformat": 4,
  "nbformat_minor": 0
}